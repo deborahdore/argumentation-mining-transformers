{
 "cells": [
  {
   "cell_type": "markdown",
   "id": "cb3ee7b3-8ca0-412b-bad4-ee03e92636e9",
   "metadata": {},
   "source": [
    "# Preprocess for PICO files\n",
    "\n",
    "This notebook process the files that are result of running the [`build_data.py`](https://github.com/bepnye/EBM-NLP/blob/master/models/lstm-crf/build_data.py) from the [EBM-NLP](https://github.com/bepnye/EBM-NLP/tree/master) repository. It takes the column format that is built by the script and turns it into a format that is compatible with the one we use here."
   ]
  },
  {
   "cell_type": "code",
   "execution_count": null,
   "id": "720f30e0-09d2-441b-8dbf-ff1fc6c7572a",
   "metadata": {},
   "outputs": [],
   "source": [
    "from pathlib import Path\n",
    "from tqdm.auto import tqdm"
   ]
  },
  {
   "cell_type": "code",
   "execution_count": null,
   "id": "210dd2b9-5dca-494c-880e-63988ef69c74",
   "metadata": {},
   "outputs": [],
   "source": [
    "INPUT_DIR = Path('../data/pico/')\n",
    "SPLITS = ['train', 'test', 'dev']\n",
    "\n",
    "LABELS_MAP = {\n",
    "    'N': 'O',\n",
    "    '1_i': 'Interventions',\n",
    "    '1_o': 'Outcomes',\n",
    "    '1_p': 'Participants'\n",
    "}"
   ]
  },
  {
   "cell_type": "code",
   "execution_count": null,
   "id": "c162e0c6-30ba-4442-9303-83af2badb86c",
   "metadata": {},
   "outputs": [],
   "source": [
    "for split in SPLITS:\n",
    "    with open(INPUT_DIR / f'{split}.txt', 'rt') as fhi, open(INPUT_DIR / f'{split}.conll', 'wt') as fho:\n",
    "        last_label = None\n",
    "        paragraph_lines = 0\n",
    "\n",
    "        for line in tqdm(fhi):\n",
    "            splitted_line = line.strip().split()\n",
    "\n",
    "            if len(splitted_line) < 3 and last_label is not None:\n",
    "                # Empty line\n",
    "                print('', file=fho)\n",
    "                last_label = 'O'  # This is to avoid continuation of labels across multiple sentences\n",
    "            elif len(splitted_line) > 3 and last_label is not None:\n",
    "                # DOCSTART line, we need to print 2 empty lines and start new paragraph\n",
    "                print('', file=fho)\n",
    "                last_label = None\n",
    "                paragraph_lines = 0\n",
    "            elif len(splitted_line) == 3:\n",
    "                # We have a token line\n",
    "                token, pos, label = splitted_line\n",
    "                label = LABELS_MAP[label]\n",
    "                if label != 'O':\n",
    "                    bio_label = f'B-{label}' if last_label != label else f'I-{label}'\n",
    "                else:\n",
    "                    bio_label = label\n",
    "                print(f\"{paragraph_lines}\\t{token}\\t{pos}\\t_\\t{bio_label}\", file=fho)\n",
    "                paragraph_lines += 1\n",
    "                last_label = label"
   ]
  }
 ],
 "metadata": {
  "kernelspec": {
   "display_name": "Python 3 (ipykernel)",
   "language": "python",
   "name": "python3"
  },
  "language_info": {
   "codemirror_mode": {
    "name": "ipython",
    "version": 3
   },
   "file_extension": ".py",
   "mimetype": "text/x-python",
   "name": "python",
   "nbconvert_exporter": "python",
   "pygments_lexer": "ipython3",
   "version": "3.10.8"
  }
 },
 "nbformat": 4,
 "nbformat_minor": 5
}
